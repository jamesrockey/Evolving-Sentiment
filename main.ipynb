{
 "cells": [
  {
   "cell_type": "markdown",
   "metadata": {},
   "source": [
    "# Evolving sentiment in Crypto markets\n",
    "James Rockey (jrockey2)\n",
    "\n",
    "Kareem Benaissa (kareem2)\n",
    "\n",
    "### This project explores the relationship between cryptocurrency sentiment through tweets\n",
    "\n",
    "This is done in the following steps:\n",
    "\n",
    "1. Calculate sentiment of tweets with BERT model pretrained with financial sentiment\n",
    "\n",
    "Model: https://huggingface.co/ProsusAI/finbert\n",
    "\n",
    "Tweets dataset: https://www.kaggle.com/code/codeblogger/bitcoin-sentiment-analysis\n",
    "\n",
    "Tweets are preprocessed before they are fed into the model.\n",
    "\n",
    "The FinBERT model outputs percentage confidence in three following sentiment categories: ['positive', 'negative', 'neutral']\n",
    "\n",
    "2. After sentiment scores are calculated for every tweet, we compare the effect of sentiment on predictive power of LSTMs. \n",
    "\n",
    "For the purposes of this research we want to explore intraday sentiment. So, we collected tweets from 15 random days in February 2021 and March 2021, and for each of these days we calculated sentiment in 10 minute increments. We then considered different sized sequences of 10 minutes to predict the next 1 or 2 sequences. We compare LSTM's prediction of price, volume, and other features, using these features as a baseline, with its performance when sentiment and weighted average sentiment are included in trainging."
   ]
  },
  {
   "cell_type": "markdown",
   "metadata": {},
   "source": [
    "## Step 1: Calculating Sentiment\n",
    "\n",
    "In our dataset, the 'text' column contains the content of the tweet. We preprocess this text and use our BERT model to calculate sentiment"
   ]
  },
  {
   "cell_type": "code",
   "execution_count": 73,
   "metadata": {},
   "outputs": [],
   "source": [
    "# imports\n",
    "import pandas as pd\n",
    "import numpy as np\n",
    "import matplotlib.pyplot as plt\n",
    "from transformers import AutoModelForSequenceClassification\n",
    "from transformers import TFAutoModelForSequenceClassification\n",
    "from transformers import AutoTokenizer\n",
    "from scipy.special import softmax\n",
    "import csv\n",
    "import urllib.request\n",
    "\n",
    "\n"
   ]
  },
  {
   "cell_type": "code",
   "execution_count": 74,
   "metadata": {},
   "outputs": [
    {
     "name": "stdout",
     "output_type": "stream",
     "text": [
      "<class 'pandas.core.frame.DataFrame'>\n",
      "RangeIndex: 48583 entries, 0 to 48582\n",
      "Data columns (total 13 columns):\n",
      " #   Column            Non-Null Count  Dtype \n",
      "---  ------            --------------  ----- \n",
      " 0   user_name         48581 non-null  object\n",
      " 1   user_location     28272 non-null  object\n",
      " 2   user_description  45263 non-null  object\n",
      " 3   user_created      48583 non-null  object\n",
      " 4   user_followers    48583 non-null  int64 \n",
      " 5   user_friends      48583 non-null  int64 \n",
      " 6   user_favourites   48583 non-null  int64 \n",
      " 7   user_verified     48583 non-null  bool  \n",
      " 8   date              48583 non-null  object\n",
      " 9   text              48583 non-null  object\n",
      " 10  hashtags          38416 non-null  object\n",
      " 11  source            47685 non-null  object\n",
      " 12  is_retweet        48583 non-null  bool  \n",
      "dtypes: bool(2), int64(3), object(8)\n",
      "memory usage: 4.2+ MB\n"
     ]
    }
   ],
   "source": [
    "df = pd.read_csv('datasets/Bitcoin_tweets.csv', sep=',', header=0)\n",
    "df.info()"
   ]
  },
  {
   "cell_type": "code",
   "execution_count": 75,
   "metadata": {},
   "outputs": [],
   "source": [
    "# Load the model\n",
    "MODEL = \"ProsusAI/finbert\"\n",
    "tokenizer = AutoTokenizer.from_pretrained(MODEL)\n",
    "model = AutoModelForSequenceClassification.from_pretrained(MODEL)"
   ]
  },
  {
   "cell_type": "code",
   "execution_count": 83,
   "metadata": {},
   "outputs": [],
   "source": [
    "# helper functions\n",
    "def get_labels(): \n",
    "    labels=[]\n",
    "\n",
    "    # This is for another BERT model that we tried:\n",
    "    # mapping_link = f\"https://raw.githubusercontent.com/cardiffnlp/tweeteval/main/datasets/{task}/mapping.txt\"\n",
    "    # with urllib.request.urlopen(mapping_link) as f:\n",
    "    #     html = f.read().decode('utf-8').split(\"\\n\")\n",
    "    #     csvreader = csv.reader(html, delimiter='\\t')\n",
    "    # labels = [row[1] for row in csvreader if len(row) > 1]\n",
    "\n",
    "    # This is for the FinBERT model:\n",
    "    labels = ['positive', 'negative', 'neutral']\n",
    "    return labels\n",
    "\n",
    "\n",
    "def preprocess(text):\n",
    "    '''\n",
    "    Preprocess text (username and link placeholders)\n",
    "    '''    \n",
    "    new_text = []\n",
    "    for t in text.split(\" \"):\n",
    "        t = '@user' if t.startswith('@') and len(t) > 1 else t\n",
    "        t = 'http' if t.startswith('http') else t\n",
    "        new_text.append(t)\n",
    "    return \" \".join(new_text)\n",
    "\n",
    "\n",
    "def process_tweet(text: str):\n",
    "    '''\n",
    "    Calculates sentiment scores for the given text\n",
    "    '''\n",
    "    text = preprocess(text)\n",
    "    encoded_input = tokenizer(text, return_tensors='pt')\n",
    "    output = model(**encoded_input)\n",
    "    scores = output[0][0].detach().numpy()\n",
    "    scores = softmax(scores)\n",
    "    return scores\n",
    "\n",
    "# Modified print_scores function to return values instead of printing\n",
    "def get_sentiment_scores(scores):\n",
    "    labels = get_labels()\n",
    "    ranking = np.argsort(scores)\n",
    "    ranking = ranking[::-1]\n",
    "    return {labels[ranking[i]]: np.round(float(scores[ranking[i]]), 4) for i in range(scores.shape[0])}\n",
    "\n",
    "# Function to apply to each row\n",
    "def analyze_sentiment(row):\n",
    "    '''\n",
    "    Takes in row from dataframe and returns a series of sentiment scores\n",
    "    Used in df.apply()\n",
    "    '''\n",
    "    text = row['text']\n",
    "    scores = process_tweet(text)\n",
    "    labels = get_labels()\n",
    "    sentiment_scores = get_sentiment_scores(scores)\n",
    "    \n",
    "    return pd.Series([sentiment_scores.get('positive', 0), \n",
    "                      sentiment_scores.get('neutral', 0), \n",
    "                      sentiment_scores.get('negative', 0)])\n",
    "\n",
    "def print_scores(scores, labels):\n",
    "    ranking = np.argsort(scores)\n",
    "    ranking = ranking[::-1]\n",
    "    for i in range(scores.shape[0]):\n",
    "        l = labels[ranking[i]]\n",
    "        s = scores[ranking[i]]\n",
    "        print(f\"{i+1}) {l} {np.round(float(s), 4)}\")\n"
   ]
  },
  {
   "cell_type": "markdown",
   "metadata": {},
   "source": [
    "### Example use of sentiment model"
   ]
  },
  {
   "cell_type": "code",
   "execution_count": 84,
   "metadata": {},
   "outputs": [
    {
     "name": "stdout",
     "output_type": "stream",
     "text": [
      "1) neutral 0.9583\n",
      "2) positive 0.023\n",
      "3) negative 0.0188\n"
     ]
    }
   ],
   "source": [
    "text = '''New Listing Announcement: Swaprol is  listed on major exchange Bibox.\n",
    "\n",
    "Swaprol is listed on https://t.co/2YckIcXHT5… https://t.co/tf9dWrxAyp''' # example tweet\n",
    "\n",
    "scores = process_tweet(text)\n",
    "labels = get_labels()\n",
    "print_scores(scores, labels)"
   ]
  },
  {
   "cell_type": "markdown",
   "metadata": {},
   "source": [
    "### Apply to dataset\n",
    "Note, this may take several hours. Data with sentiment scores already calculated is found in this file: sentiment_added_data.csv"
   ]
  },
  {
   "cell_type": "code",
   "execution_count": 88,
   "metadata": {},
   "outputs": [
    {
     "name": "stdout",
     "output_type": "stream",
     "text": [
      "48583\n"
     ]
    }
   ],
   "source": [
    "from tqdm import tqdm\n",
    "tqdm.pandas()\n",
    "\n",
    "print(len(df))\n",
    "# df[['positive', 'neutral', 'negative']] = df.progress_apply(analyze_sentiment, axis=1)\n",
    "# df.to_csv('calculated_sentiment.csv')\n",
    "\n",
    "\n"
   ]
  },
  {
   "cell_type": "markdown",
   "metadata": {},
   "source": [
    "# ____________________________________________________________________________\n",
    "# Step 2: Analyzing Sentiment\n",
    "\n",
    "Here, we explore how sentiment using the bert model effects LSTM prediction"
   ]
  },
  {
   "cell_type": "markdown",
   "metadata": {},
   "source": [
    "### Calculate 10 minute sentiment scores for each day in dataset\n",
    "\n",
    "The sentiment score for a given day is found by taking an average of the ['positive', 'negative', 'neutral'] columns in our dataset during a 10-mintue interval. \n",
    "\n",
    "For each trading day, we group tweets into 10-minute intervals starting at 12:00:00 am until 11:59:59 pm. \n",
    "\n",
    "We also explore how the \"reach\" of a tweet affects daily sentiment by calculating a weighted average over the number of followers twitter user.\n",
    "\n",
    "If a 10-minute slice is missing tweets, we give each column equal weight"
   ]
  },
  {
   "cell_type": "code",
   "execution_count": 56,
   "metadata": {},
   "outputs": [],
   "source": [
    "'''\n",
    "The following functions calculate the weighted average \n",
    "and average sentiment scores for a group from the dataframe.\n",
    "\n",
    "Input: group: from the df.groupby() function\n",
    "\n",
    "Output: series of weighted average and average sentiment scores\n",
    "\n",
    "'''\n",
    "\n",
    "def weighted_average(group):\n",
    "    weighted_positive = (group['positive'] * group['user_followers']).sum()\n",
    "    weighted_neutral = (group['neutral'] * group['user_followers']).sum()\n",
    "    weighted_negative = (group['negative'] * group['user_followers']).sum()\n",
    "    total_followers = np.sum(group['user_followers'])\n",
    "    \n",
    "    if total_followers == 0:\n",
    "        return pd.Series({\n",
    "            'weighted_avg_positive': 1/3,\n",
    "            'weighted_avg_neutral': 1/3,\n",
    "            'weighted_avg_negative': 1/3\n",
    "        })\n",
    "    return pd.Series({\n",
    "        'weighted_avg_positive': weighted_positive / total_followers,\n",
    "        'weighted_avg_neutral': weighted_neutral / total_followers,\n",
    "        'weighted_avg_negative': weighted_negative / total_followers\n",
    "    })\n",
    "\n",
    "def average(group):\n",
    "    avg_positive = group['positive'].mean()\n",
    "    avg_neutral = group['neutral'].mean()\n",
    "    avg_negative = group['negative'].mean()\n",
    "\n",
    "    total_followers = np.sum(group['user_followers'])\n",
    "    \n",
    "    if total_followers == 0:\n",
    "        # print('INVALID TOTAL' + str(count))\n",
    "        return pd.Series({\n",
    "            'weighted_avg_positive': 1/3,\n",
    "            'weighted_avg_neutral': 1/3,\n",
    "            'weighted_avg_negative': 1/3\n",
    "        })\n",
    "    return pd.Series({\n",
    "        'avg_positive': avg_positive,\n",
    "        'avg_neutral': avg_neutral,\n",
    "        'avg_negative': avg_negative\n",
    "    })\n"
   ]
  },
  {
   "cell_type": "markdown",
   "metadata": {},
   "source": [
    "### Process Daily Tweet Data:\n",
    "\n",
    "Hour chunks are included if there occurs at least one tweet during that hour.\n",
    "Each hour chunk is split into six 10 minute intervals, and average sentiment score is calculated for each interval\n",
    "\n",
    "For missing 10 minute intervals, average sentiment score is weighted equally across all ['positive', 'negative', 'neutral'] columns\n"
   ]
  },
  {
   "cell_type": "code",
   "execution_count": 67,
   "metadata": {},
   "outputs": [],
   "source": [
    "# '''\n",
    "# This function takes in a dataframe for a single day \n",
    "# and returns dataframe filtered into 10 minute sentiment intervals by the date\n",
    "# '''\n",
    "from datetime import datetime\n",
    "def process_day_data(day_df, interval_size='10T', default_values=None, avg_func = weighted_average):\n",
    "    # Ensure 'date' column is in datetime format\n",
    "    day_df['date'] = pd.to_datetime(day_df['date'])\n",
    "\n",
    "    # Extract the date part as a string\n",
    "    day_str = day_df['date'].dt.date.iloc[0].isoformat()\n",
    "\n",
    "    # Identify hours with at least one tweet\n",
    "    active_hours = day_df['date'].dt.hour.unique()\n",
    "\n",
    "    # Create a DataFrame to hold the final result\n",
    "    processed_data = pd.DataFrame()\n",
    "\n",
    "    # Set default values for missing data points\n",
    "    default_values = default_values if default_values is not None else 1/3\n",
    "\n",
    "    # Iterate through each active hour and process data\n",
    "    for hour in active_hours:\n",
    "        # Create a datetime object for the start of the hour\n",
    "        start_time_str = f\"{day_str} {hour:02d}:00:00\"\n",
    "        start_time = datetime.fromisoformat(start_time_str)\n",
    "        end_time = start_time + pd.Timedelta(hours=1) - pd.Timedelta(seconds=1)\n",
    "\n",
    "\n",
    "        # Create date range for this hour\n",
    "        date_range = pd.date_range(start=start_time, end=end_time, freq=interval_size)\n",
    "\n",
    "        # Filter the DataFrame for the current hour and group by interval\n",
    "        hour_df = day_df[(day_df['date'] >= start_time) & (day_df['date'] <= end_time)]\n",
    "        grouped_data = hour_df.groupby(pd.Grouper(key='date', freq=interval_size)).apply(weighted_average).reset_index()\n",
    "\n",
    "        # Reindex to ensure all intervals are present\n",
    "        grouped_data.set_index('date', inplace=True)\n",
    "        grouped_data = grouped_data.reindex(date_range)\n",
    "\n",
    "        # Fill missing data with default values\n",
    "        grouped_data.fillna(default_values, inplace=True)\n",
    "\n",
    "        # Add the processed data for this hour to the final DataFrame\n",
    "        processed_data = pd.concat([processed_data, grouped_data.reset_index()])\n",
    "\n",
    "    # Reset index and rename the date column\n",
    "    processed_data.reset_index(drop=True, inplace=True)\n",
    "    processed_data.rename(columns={'index': 'date'}, inplace=True)\n",
    "    return processed_data\n"
   ]
  },
  {
   "cell_type": "markdown",
   "metadata": {},
   "source": [
    "### This function returns preprocessed sentiment data in the form of hourly chunks of 10-minute intervald\n",
    "\n",
    "For each day, we consider hourly windows. If a tweet occurred within an hour window, for that given hour we split into six 10-minute intervals"
   ]
  },
  {
   "cell_type": "code",
   "execution_count": 68,
   "metadata": {},
   "outputs": [],
   "source": [
    "def get_processed_twitter_data(avg_func):\n",
    "\n",
    "    sentiment_df = pd.read_csv('datasets/tweets_with_sentiment.csv')\n",
    "\n",
    "    # information to keep: user_followers, date, positive, neutral, negative\n",
    "    sentiment_df = sentiment_df[['user_followers', 'date', 'positive', 'neutral', 'negative']]\n",
    "    sentiment_df['date'] = pd.to_datetime(sentiment_df['date'])\n",
    "\n",
    "    # group by days\n",
    "    day_tweets_df = sentiment_df.groupby(sentiment_df['date'].dt.date)\n",
    "\n",
    "    day_data = []\n",
    "\n",
    "    for day, group_data in day_tweets_df:\n",
    "        data = process_day_data(group_data, avg_func=avg_func) # process data for each day (fill in missing interval data)\n",
    "        day_data.append(data)\n",
    "\n",
    "    # print(day_data.keys())\n",
    "    day_tweets_df = pd.concat(day_data, ignore_index=True)\n",
    "\n",
    "    return day_tweets_df\n"
   ]
  },
  {
   "cell_type": "markdown",
   "metadata": {},
   "source": [
    "### Grouping our tweets with sentiment with Bitcoin minute dataset"
   ]
  },
  {
   "cell_type": "code",
   "execution_count": 69,
   "metadata": {},
   "outputs": [
    {
     "name": "stdout",
     "output_type": "stream",
     "text": [
      "<class 'pandas.core.frame.DataFrame'>\n",
      "RangeIndex: 1752 entries, 0 to 1751\n",
      "Data columns (total 12 columns):\n",
      " #   Column                 Non-Null Count  Dtype         \n",
      "---  ------                 --------------  -----         \n",
      " 0   date                   1752 non-null   datetime64[ns]\n",
      " 1   weighted_avg_positive  1752 non-null   float64       \n",
      " 2   weighted_avg_neutral   1752 non-null   float64       \n",
      " 3   weighted_avg_negative  1752 non-null   float64       \n",
      " 4   unix                   1752 non-null   int64         \n",
      " 5   symbol                 1752 non-null   object        \n",
      " 6   open                   1752 non-null   float64       \n",
      " 7   high                   1752 non-null   float64       \n",
      " 8   low                    1752 non-null   float64       \n",
      " 9   close                  1752 non-null   float64       \n",
      " 10  Volume BTC             1752 non-null   float64       \n",
      " 11  Volume USD             1752 non-null   float64       \n",
      "dtypes: datetime64[ns](1), float64(9), int64(1), object(1)\n",
      "memory usage: 164.4+ KB\n"
     ]
    }
   ],
   "source": [
    "def  get_merged_datasets(avg_func = weighted_average):\n",
    "    day_tweets_df = get_processed_twitter_data(avg_func)\n",
    "\n",
    "    btc_minute_df = pd.read_csv('datasets/BTC-2021min.csv', sep=',', header=0)\n",
    "    btc_minute_df['date'] = pd.to_datetime(btc_minute_df['date'])\n",
    "\n",
    "    combined_data = pd.merge(day_tweets_df, btc_minute_df, on='date', how='inner')\n",
    "    return combined_data\n",
    "\n",
    "combined_data = get_merged_datasets()\n",
    "combined_data.info()"
   ]
  },
  {
   "cell_type": "markdown",
   "metadata": {},
   "source": [
    "### Creating sequences"
   ]
  },
  {
   "cell_type": "code",
   "execution_count": 60,
   "metadata": {},
   "outputs": [],
   "source": [
    "'''\n",
    "This function takes in pandas dataframe and returns nonoverlapping sequences\n",
    "\n",
    "data: np ndarray of the values of a set of columns\n",
    "\n",
    "lookback: number of rows to look back on\n",
    "m: number of rows after lookback to include in sequence\n",
    "\n",
    "X: where len(X) = lookback \n",
    "y: where len(y) = m\n",
    "'''\n",
    "\n",
    "def create_sequences(data, lookback: int, m = 1, output_features = [1, 2, 3], is_overlapping = False):\n",
    "    X, y = [], []\n",
    "    hop_size = lookback + m\n",
    "    if is_overlapping:\n",
    "        hop_size = 1\n",
    "    for i in range(0, len(data) - (lookback+m), hop_size):\n",
    "        # for given window, get only the features columns\n",
    "        X_seq = data[i:(i+lookback)] # start at first sequence\n",
    "        y_seq = data[i+lookback:i+lookback+m, output_features]\n",
    "\n",
    "        X.append(X_seq)\n",
    "        y.append(y_seq)\n",
    "    return np.array(X), np.array(y)"
   ]
  },
  {
   "cell_type": "markdown",
   "metadata": {},
   "source": [
    "### Creating Sequences for LSTM\n",
    "\n",
    "We are training our LSTM with sequences of 10-minute interval data.\n",
    "\n",
    "The first method we tried created hourly predictions, where the first 50 minutes of an hour predicted the last 10 minutes\n",
    "\n",
    "However after viewing the structure of the data, we noticed that there were noticable segments of days with tweets, separated from days with no tweets. \n",
    "\n",
    "So, our second method creates overlapping sequences from segments containing at least one tweet every hour. \n"
   ]
  },
  {
   "cell_type": "code",
   "execution_count": 43,
   "metadata": {},
   "outputs": [],
   "source": [
    "from sklearn.preprocessing import MinMaxScaler\n",
    "\n",
    "def find_gaps(df, gap_threshold):\n",
    "    df = df.sort_values('date')\n",
    "    df['time_diff'] = df['date'].diff()\n",
    "    gap_threshold = pd.Timedelta(gap_threshold)\n",
    "    gaps = df['time_diff'] > gap_threshold\n",
    "\n",
    "    gap_indices = np.where(gaps)[0]\n",
    "    return gap_indices\n",
    "\n",
    "\n",
    "def get_nonoverlapping_sequences(lookback_size=5, prediction_size=1, features = ['close', 'avg_negative'], output_features = [0]):\n",
    "    combined_data = get_merged_datasets()\n",
    "\n",
    "    # TODO: change to your desired features\n",
    "    features = ['close', 'avg_negative']       # 'weighted_avg_positive', 'weighted_avg_neutral', 'weighted_avg_negative', \n",
    "    output_features = [0] # only predict close\n",
    "    lookback_size = 5 # \n",
    "    prediction_size = 1\n",
    "\n",
    "\n",
    "    scaler = MinMaxScaler(feature_range=(0, 1))\n",
    "\n",
    "    scaled_features = scaler.fit_transform(combined_data[features].values)\n",
    "\n",
    "\n",
    "    days = []\n",
    "    num_days = combined_data.groupby(combined_data['date'].dt.date).ngroups\n",
    "    for i in range(0, num_days):\n",
    "        # get data for that day\n",
    "        num_rows = scaled_features.shape[0] // num_days\n",
    "        day_data = scaled_features[i*num_rows:(i+1)*num_rows]\n",
    "\n",
    "        X, y = create_sequences(day_data, lookback_size, prediction_size, output_features)\n",
    "        days.append((X, y))\n",
    "    # split days up into 80% training and 20% testing\n",
    "    training_data = days[:int(len(days)*0.8)]\n",
    "    testing_data = days[int(len(days)*0.8):]\n",
    "\n",
    "    X_train = np.concatenate([data[0] for data in training_data])\n",
    "    y_train = np.concatenate([data[1] for data in training_data])\n",
    "\n",
    "    X_test = np.concatenate([data[0] for data in testing_data])\n",
    "    y_test = np.concatenate([data[1] for data in testing_data]) \n",
    "\n",
    "    return X_train, y_train, X_test, y_test\n",
    "\n",
    "\n",
    "def get_overlapping_sequences(lookback_size=5, prediction_size=1, features = ['close', 'avg_negative'], output_features = [0]):\n",
    "    combined_data = get_merged_datasets()\n",
    "\n",
    "    # TODO: change to your desired features\n",
    "    features = ['close', 'avg_negative']       # 'weighted_avg_positive', 'weighted_avg_neutral', 'weighted_avg_negative', \n",
    "    output_features = [0] # only predict close\n",
    "    lookback_size = 5 # \n",
    "    prediction_size = 1\n",
    "\n",
    "    # Scale the entire dataset\n",
    "    scaler = MinMaxScaler(feature_range=(0, 1))\n",
    "    scaled_data = scaler.fit_transform(combined_data[features].values)\n",
    "\n",
    "    # Find gaps and extract segments from scaled data\n",
    "    gap_indices = find_gaps(combined_data, '1H')\n",
    "    scaled_segments = np.split(scaled_data, gap_indices)\n",
    "\n",
    "    # Create overlapping sequences from segments\n",
    "    segments = []\n",
    "    for segment in scaled_segments:\n",
    "        X, y = create_sequences(segment, lookback_size, prediction_size, output_features, is_overlapping=True)\n",
    "        segments.append((X, y))\n",
    "\n",
    "\n",
    "    big_X = np.concatenate([X for X, _ in segments], axis=0)\n",
    "    big_y = np.concatenate([y for _, y in segments], axis=0)\n",
    "\n",
    "    # split days up into 80% training and 20% testing\n",
    "    X_train = big_X[:int(len(big_X)*0.8)]\n",
    "    y_train = big_y[:int(len(big_y)*0.8)]\n",
    "    X_test = big_X[int(len(big_X)*0.8):]\n",
    "    y_test = big_y[int(len(big_y)*0.8):]\n",
    "\n",
    "\n",
    "    return X_train, y_train, X_test, y_test\n",
    "\n",
    "\n",
    "X_train, y_train, X_test, y_test = get_overlapping_sequences()\n"
   ]
  },
  {
   "cell_type": "markdown",
   "metadata": {},
   "source": [
    "# LSTM Model"
   ]
  },
  {
   "cell_type": "code",
   "execution_count": 44,
   "metadata": {},
   "outputs": [],
   "source": [
    "import pandas as pd\n",
    "from sklearn.preprocessing import MinMaxScaler\n",
    "from sklearn.model_selection import train_test_split\n",
    "from keras.models import Sequential\n",
    "from keras.layers import LSTM, Dense\n",
    "from keras.callbacks import EarlyStopping"
   ]
  },
  {
   "cell_type": "code",
   "execution_count": 45,
   "metadata": {},
   "outputs": [],
   "source": [
    "\n",
    "lookback_size = 5 # \n",
    "prediction_size = 1\n",
    "features = ['close', 'avg_negative']\n",
    "output_features = [0]\n",
    "\n",
    "X_train, y_train, X_test, y_test = get_nonoverlapping_sequences(lookback_size, prediction_size, features, output_features)\n",
    "\n",
    "\n",
    "model = Sequential()\n",
    "model.add(LSTM(50, return_sequences=True, input_shape=(lookback_size, len(features))))\n",
    "model.add(LSTM(50))\n",
    "model.add(Dense(1))\n",
    "\n",
    "# Compiling the model\n",
    "model.compile(optimizer='adam', loss='mean_squared_error')"
   ]
  },
  {
   "cell_type": "markdown",
   "metadata": {},
   "source": [
    "### Training Model"
   ]
  },
  {
   "cell_type": "code",
   "execution_count": 46,
   "metadata": {},
   "outputs": [
    {
     "name": "stdout",
     "output_type": "stream",
     "text": [
      "Epoch 1/100\n",
      "8/8 [==============================] - 2s 71ms/step - loss: 0.1492 - val_loss: 0.2777\n",
      "Epoch 2/100\n",
      "8/8 [==============================] - 0s 7ms/step - loss: 0.0415 - val_loss: 0.0214\n",
      "Epoch 3/100\n",
      "8/8 [==============================] - 0s 6ms/step - loss: 0.0217 - val_loss: 0.0111\n",
      "Epoch 4/100\n",
      "8/8 [==============================] - 0s 6ms/step - loss: 0.0115 - val_loss: 0.0401\n",
      "Epoch 5/100\n",
      "8/8 [==============================] - 0s 6ms/step - loss: 0.0098 - val_loss: 0.0256\n",
      "Epoch 6/100\n",
      "8/8 [==============================] - 0s 6ms/step - loss: 0.0051 - val_loss: 0.0100\n",
      "Epoch 7/100\n",
      "8/8 [==============================] - 0s 6ms/step - loss: 0.0030 - val_loss: 0.0109\n",
      "Epoch 8/100\n",
      "8/8 [==============================] - 0s 6ms/step - loss: 0.0018 - val_loss: 0.0113\n",
      "Epoch 9/100\n",
      "8/8 [==============================] - 0s 6ms/step - loss: 0.0012 - val_loss: 0.0148\n",
      "Epoch 10/100\n",
      "8/8 [==============================] - 0s 6ms/step - loss: 0.0012 - val_loss: 0.0127\n",
      "Epoch 11/100\n",
      "8/8 [==============================] - 0s 7ms/step - loss: 0.0012 - val_loss: 0.0127\n",
      "Epoch 12/100\n",
      "8/8 [==============================] - 0s 6ms/step - loss: 0.0011 - val_loss: 0.0125\n",
      "Epoch 13/100\n",
      "8/8 [==============================] - 0s 5ms/step - loss: 0.0010 - val_loss: 0.0116\n",
      "Epoch 14/100\n",
      "8/8 [==============================] - 0s 5ms/step - loss: 0.0010 - val_loss: 0.0119\n",
      "Epoch 15/100\n",
      "8/8 [==============================] - 0s 5ms/step - loss: 0.0010 - val_loss: 0.0118\n",
      "Epoch 16/100\n",
      "8/8 [==============================] - 0s 6ms/step - loss: 0.0010 - val_loss: 0.0117\n"
     ]
    },
    {
     "data": {
      "text/plain": [
       "<keras.src.callbacks.History at 0x2bb4b2cd0>"
      ]
     },
     "execution_count": 46,
     "metadata": {},
     "output_type": "execute_result"
    }
   ],
   "source": [
    "# Early stopping\n",
    "early_stopping = EarlyStopping(monitor='val_loss', patience=10)\n",
    "\n",
    "# Training the model\n",
    "model.fit(X_train, y_train, epochs=100, validation_data=(X_test, y_test), callbacks=[early_stopping], batch_size=32)"
   ]
  },
  {
   "cell_type": "code",
   "execution_count": 184,
   "metadata": {},
   "outputs": [
    {
     "name": "stdout",
     "output_type": "stream",
     "text": [
      "2/2 [==============================] - 0s 8ms/step - loss: 0.0115\n"
     ]
    },
    {
     "data": {
      "text/plain": [
       "0.01150317769497633"
      ]
     },
     "execution_count": 184,
     "metadata": {},
     "output_type": "execute_result"
    }
   ],
   "source": [
    "model.evaluate(X_test, y_test)\n"
   ]
  },
  {
   "cell_type": "markdown",
   "metadata": {},
   "source": [
    "# Model with sentiment included performance"
   ]
  },
  {
   "cell_type": "code",
   "execution_count": 18,
   "metadata": {},
   "outputs": [
    {
     "name": "stdout",
     "output_type": "stream",
     "text": [
      "2/2 [==============================] - 0s 2ms/step - loss: 6.5089e-04\n"
     ]
    },
    {
     "data": {
      "text/plain": [
       "0.0006508909282274544"
      ]
     },
     "execution_count": 18,
     "metadata": {},
     "output_type": "execute_result"
    }
   ],
   "source": [
    "model.evaluate(X_test, y_test)\n",
    "# 0.00015919399447739124 < 0.00015837745741009712\n"
   ]
  },
  {
   "cell_type": "code",
   "execution_count": 19,
   "metadata": {},
   "outputs": [
    {
     "name": "stdout",
     "output_type": "stream",
     "text": [
      "2/2 [==============================] - 0s 2ms/step - loss: 6.5089e-04\n"
     ]
    },
    {
     "data": {
      "text/plain": [
       "0.0006508909282274544"
      ]
     },
     "execution_count": 19,
     "metadata": {},
     "output_type": "execute_result"
    }
   ],
   "source": [
    "model.evaluate(X_test, y_test)\n"
   ]
  },
  {
   "cell_type": "code",
   "execution_count": 23,
   "metadata": {},
   "outputs": [
    {
     "name": "stdout",
     "output_type": "stream",
     "text": [
      "2/2 [==============================] - 0s 2ms/step - loss: 6.5089e-04\n"
     ]
    },
    {
     "data": {
      "text/plain": [
       "0.0006508909282274544"
      ]
     },
     "execution_count": 23,
     "metadata": {},
     "output_type": "execute_result"
    }
   ],
   "source": [
    "model.evaluate(X_test, y_test)\n"
   ]
  },
  {
   "cell_type": "markdown",
   "metadata": {},
   "source": [
    "## Extra:\n",
    "1. Preprocessing step: show 3 tweets before and after processing (table)\n",
    "2. Sentiment Scores: Highest positive tweet, highest negative tweet, (table)\n",
    "3. Sentiment x Bitcoin price: plot of sentiment vs bitcoin price\n",
    "4. LSTM Model Parameters (table)\n",
    "5. LSTM prediction of test data (plot)\n",
    "6. LSTM Evaluation metrics, with sentiment and without (table)"
   ]
  },
  {
   "cell_type": "code",
   "execution_count": 120,
   "metadata": {},
   "outputs": [
    {
     "name": "stdout",
     "output_type": "stream",
     "text": [
      "Bitcoin's value is skyrocketing! Check out the latest \n",
      "stats at http @user\n",
      "Bitcoin's price is soaring to new heights! Discover the most recent figures at http @user\n"
     ]
    }
   ],
   "source": [
    "# 1. Preprocessing step: show 3 tweets before and after processing (table)\n",
    "tweet = '''Bitcoin's value is skyrocketing! Check out the latest \n",
    "stats at http://bit.ly/btcStats @cryptoguru'''\n",
    "\n",
    "# Preprocess the tweet\n",
    "processed_tweet = preprocess(tweet)\n",
    "print(processed_tweet)\n",
    "\n",
    "\n",
    "tweet = '''Bitcoin's price is soaring to new heights! Discover the most recent figures at http://bit.ly/btcNumbers @digitalcoinexpert'''\n",
    "\n",
    "processed_tweet = preprocess(tweet)\n",
    "print(processed_tweet)"
   ]
  },
  {
   "cell_type": "code",
   "execution_count": 135,
   "metadata": {},
   "outputs": [
    {
     "name": "stdout",
     "output_type": "stream",
     "text": [
      "New Listing Announcement: Swaprol is  listed on major exchange Bibox.\n",
      "\n",
      "Swaprol is listed on https://t.co/2YckIcXHT5… https://t.co/tf9dWrxAyp\n",
      "0.9583\n",
      "Bought some $FTT and $sushi will be using @TrustWalletApp and not @AtomicWallet. \n",
      "#aave #Uniswap #cryptocurrency… https://t.co/g9TSnlazkT\n",
      "0.9562\n",
      "\"27% of All Dogecoin (DOGE) is Held By a Single Address – CZ\" #Bitcoin #Altcoin #Btc #Crypto https://t.co/HgZqRwU4Js https://t.co/tgrnkkeLkk\n",
      "0.9558\n"
     ]
    }
   ],
   "source": [
    "\n",
    "# 2. Sentiment Scores: Highest positive tweet, highest negative tweet, (table)\n",
    "tweets_with_sentiment = pd.read_csv('datasets/tweets_with_sentiment.csv')\n",
    "# tweets_with_sentiment.info()\n",
    "\n",
    "pd.set_option('display.max_colwidth', None)  # For Pandas >= 1.0\n",
    "top_positive = tweets_with_sentiment.nlargest(3, 'positive')\n",
    "top_negative = tweets_with_sentiment.nlargest(3, 'negative')\n",
    "top_neutral = tweets_with_sentiment.nlargest(3, 'neutral')\n",
    "# print all of the string\n",
    "\n",
    "for i in range(3):\n",
    "    print(top_neutral.iloc[i]['text'])  # This should print the entire string\n",
    "    print(top_neutral.iloc[i]['neutral'])  # This should print the numeric value\n",
    "# print(2,top_positive.iloc[1]['text'], )\n",
    "# print(3,top_positive.iloc[2]['text'])\n",
    "# print(4, top_negative.iloc[0]['text'])\n",
    "# print(5, top_negative.iloc[1]['text'])\n",
    "# print(6, top_negative.iloc[2]['text'])\n",
    "# print(7, top_neutral.iloc[0]['text'])\n",
    "# print(8, top_neutral.iloc[1]['text'])\n",
    "# print(9, top_neutral.iloc[2]['text'])"
   ]
  },
  {
   "cell_type": "code",
   "execution_count": null,
   "metadata": {},
   "outputs": [],
   "source": []
  },
  {
   "cell_type": "code",
   "execution_count": null,
   "metadata": {},
   "outputs": [],
   "source": []
  },
  {
   "cell_type": "code",
   "execution_count": null,
   "metadata": {},
   "outputs": [],
   "source": []
  },
  {
   "cell_type": "code",
   "execution_count": 119,
   "metadata": {},
   "outputs": [
    {
     "name": "stdout",
     "output_type": "stream",
     "text": [
      "<class 'pandas.core.frame.DataFrame'>\n",
      "RangeIndex: 1752 entries, 0 to 1751\n",
      "Data columns (total 12 columns):\n",
      " #   Column                 Non-Null Count  Dtype         \n",
      "---  ------                 --------------  -----         \n",
      " 0   date                   1752 non-null   datetime64[ns]\n",
      " 1   weighted_avg_positive  1752 non-null   float64       \n",
      " 2   weighted_avg_neutral   1752 non-null   float64       \n",
      " 3   weighted_avg_negative  1752 non-null   float64       \n",
      " 4   unix                   1752 non-null   int64         \n",
      " 5   symbol                 1752 non-null   object        \n",
      " 6   open                   1752 non-null   float64       \n",
      " 7   high                   1752 non-null   float64       \n",
      " 8   low                    1752 non-null   float64       \n",
      " 9   close                  1752 non-null   float64       \n",
      " 10  Volume BTC             1752 non-null   float64       \n",
      " 11  Volume USD             1752 non-null   float64       \n",
      "dtypes: datetime64[ns](1), float64(9), int64(1), object(1)\n",
      "memory usage: 164.4+ KB\n"
     ]
    },
    {
     "data": {
      "application/vnd.jupyter.widget-view+json": {
       "model_id": "90c66c8889974b4488d6939c3c196587",
       "version_major": 2,
       "version_minor": 0
      },
      "text/plain": [
       "interactive(children=(IntSlider(value=0, description='i', max=5), Output()), _dom_classes=('widget-interact',)…"
      ]
     },
     "metadata": {},
     "output_type": "display_data"
    },
    {
     "data": {
      "text/plain": [
       "<Figure size 640x480 with 0 Axes>"
      ]
     },
     "metadata": {},
     "output_type": "display_data"
    },
    {
     "data": {
      "image/png": "[encoded data removed]",
      "text/plain": [
       "<Figure size 1200x600 with 2 Axes>"
      ]
     },
     "metadata": {},
     "output_type": "display_data"
    }
   ],
   "source": [
    "# 3. Sentiment x Bitcoin price: plot of sentiment vs bitcoin price\n",
    "\n",
    "def get_segments(data, gap_threshold = '1H', features = ['close', 'avg_negative']):\n",
    "    cpy = data[features]\n",
    "    # print(cpy['avg_neutral'])\n",
    "    # convert dataframe to ndarray\n",
    "    ndarray = cpy.to_numpy()\n",
    "    gap_indices = find_gaps(data, gap_threshold=gap_threshold)\n",
    "    segments = np.split(ndarray, gap_indices)\n",
    "    return segments, gap_indices\n",
    "\n",
    "\n",
    "# choose features\n",
    "features = ['close', 'weighted_avg_positive', 'weighted_avg_negative', 'weighted_avg_neutral']\n",
    "\n",
    "combined_data = get_merged_datasets(weighted_average)\n",
    "combined_data.info()\n",
    "\n",
    "combined_data['date'] = pd.to_datetime(combined_data['date'])\n",
    "segments, gap_indices = get_segments(combined_data, gap_threshold='1H', features=features)\n",
    "\n",
    "# get all times from rows in combined_data until gap_indices, and then to the end\n",
    "times = combined_data['date'].to_numpy()\n",
    "times = np.split(times, gap_indices)\n",
    "\n",
    "# include slider bar for user to choose which segment to view\n",
    "import ipywidgets as widgets\n",
    "from IPython.display import display\n",
    "from ipywidgets import interact, interact_manual\n",
    "\n",
    "\n",
    "# Function to plot a segment\n",
    "def plot_segment(time, segment, labels):\n",
    "    fig, axs = plt.subplots(len(labels), 1, figsize=(10, len(labels) * 3))\n",
    "\n",
    "    # Ensure time is in numpy datetime64 format and sort it\n",
    "    time = np.array(time, dtype='datetime64')\n",
    "    sorted_indices = np.argsort(time)\n",
    "    sorted_time = time[sorted_indices]\n",
    "\n",
    "    for i, ax in enumerate(axs):\n",
    "        sorted_values = segment[:, i][sorted_indices]\n",
    "        # change the color depending on i \n",
    "        color = 'blue'\n",
    "        if (i == 1):\n",
    "            color = 'green'\n",
    "        elif (i == 2):\n",
    "            color = 'red'\n",
    "        elif (i == 3):\n",
    "            color = 'orange'\n",
    "        \n",
    "        ax.plot(sorted_time, sorted_values, label=labels[i], color=color)\n",
    "        ax.set_xlabel('Date')\n",
    "        if (i == 0):\n",
    "            ax.set_ylabel('BTC Price')\n",
    "        else:\n",
    "            ax.set_ylabel('Sentiment Confidence Percentage')\n",
    "        \n",
    "        \n",
    "        ax.set_title(f'{labels[i]} vs Time')\n",
    "        ax.legend()\n",
    "\n",
    "    plt.tight_layout()\n",
    "    plt.show()\n",
    "\n",
    "# Interactive function to choose segment\n",
    "@interact\n",
    "def show_tweets(i=widgets.IntSlider(min=0, max=len(segments) - 1, step=1, value=0)):\n",
    "    segment_labels = ['BTC Price', 'Positive Sentiment', 'Negative Sentiment', 'Neutral Sentiment']\n",
    "    plt.clf()  # Clear the previous plot\n",
    "    segment = segments[i]\n",
    "    time = times[i]\n",
    "\n",
    "    plot_segment(time, segment, segment_labels)\n",
    "\n",
    "\n",
    "\n",
    "    # plt.plot(sorted_time, segment[:, 2][sorted_indices], label='Negative Sentiment')\n",
    "    # plt.plot(sorted_time, segment[:, 3][sorted_indices], label='Neutral Sentiment')\n",
    "\n",
    "import matplotlib.pyplot as plt\n",
    "import matplotlib.dates as mdates\n",
    "import numpy as np\n",
    "import ipywidgets as widgets\n",
    "from IPython.display import display\n",
    "from ipywidgets import interact, interact_manual\n",
    "\n",
    "\n",
    "# I assume segments and times are defined as before and are available here\n",
    "\n",
    "def plot_all_segments(segments, times):\n",
    "    plt.clf()  # Clear the previous plot\n",
    "    # Your existing code for plotting segments\n",
    "    fig, ax1 = plt.subplots()\n",
    "    for i in range(len(segments)):\n",
    "        segment = segments[i]\n",
    "        time = times[i]\n",
    "        time = np.array(time, dtype='datetime64')\n",
    "        sorted_indices = np.argsort(time)\n",
    "        sorted_time = time[sorted_indices]\n",
    "        sorted_price = segment[:, 0][sorted_indices]\n",
    "        ax1.plot(sorted_time, sorted_price, label=f'Segment {i+1}')\n",
    "\n",
    "    ax1.set_xlabel('Date')\n",
    "    ax1.set_ylabel('BTC Price')\n",
    "    ax1.tick_params(axis='y')\n",
    "\n",
    "    # Your code for plotting number of tweets, but on a secondary y-axis\n",
    "    df = pd.read_csv('datasets/tweets_with_sentiment.csv')\n",
    "    df['date'] = pd.to_datetime(df['date']).dt.date\n",
    "    df = df.groupby(df['date']).count()\n",
    "    df = df.reset_index()\n",
    "    df = df[['date', 'text']]\n",
    "    df = df.rename(columns={'text': 'count'})\n",
    "    df['date'] = pd.to_datetime(df['date'])\n",
    "    df = df.sort_values('date')\n",
    "\n",
    "    ax2 = ax1.twinx()  # Create a secondary y-axis\n",
    "    ax2.bar(df['date'], df['count'], label='Number of Tweets', alpha=0.5, color='grey')\n",
    "    ax2.set_ylabel('Number of Tweets')\n",
    "    ax2.tick_params(axis='y', labelcolor='grey')\n",
    "\n",
    "    # Adding legends and title\n",
    "    # ax1.legend(loc='upper left')\n",
    "    # ax2.legend(loc='upper right')\n",
    "    ax1.legend(loc='upper left', bbox_to_anchor=(1.25, 1), borderaxespad=0.)\n",
    "    ax2.legend(loc='upper left', bbox_to_anchor=(1.25, 0.6), borderaxespad=0.)\n",
    "\n",
    "    plt.title('Segment Values and Number of Tweets over Time')\n",
    "\n",
    "\n",
    "    # Set a major tick locator and a formatter for the x-axis\n",
    "    ax1.xaxis.set_major_locator(mdates.AutoDateLocator())\n",
    "    ax1.xaxis.set_major_formatter(mdates.DateFormatter('%Y-%m-%d'))\n",
    "\n",
    "    # Rotate and align the tick labels so they look better\n",
    "    fig.autofmt_xdate()\n",
    "\n",
    "    # Increase the size of the figure\n",
    "    fig.set_size_inches(12, 6)  # You can adjust the size as needed\n",
    "\n",
    "    # Redraw the figure to update the changes\n",
    "    fig.canvas.draw()\n",
    "    plt.show()\n",
    "    \n",
    "    \n",
    "plot_all_segments(segments, times)\n",
    "\n"
   ]
  },
  {
   "cell_type": "code",
   "execution_count": null,
   "metadata": {},
   "outputs": [],
   "source": []
  },
  {
   "cell_type": "code",
   "execution_count": 90,
   "metadata": {},
   "outputs": [
    {
     "name": "stdout",
     "output_type": "stream",
     "text": [
      "84\n"
     ]
    },
    {
     "name": "stderr",
     "output_type": "stream",
     "text": [
      "/var/folders/qq/m89p4_x94zx6v_zssvtmrx6c0000gn/T/ipykernel_62313/3440171119.py:17: SettingWithCopyWarning: \n",
      "A value is trying to be set on a copy of a slice from a DataFrame.\n",
      "Try using .loc[row_indexer,col_indexer] = value instead\n",
      "\n",
      "See the caveats in the documentation: https://pandas.pydata.org/pandas-docs/stable/user_guide/indexing.html#returning-a-view-versus-a-copy\n",
      "  first_day_data['date'] = pd.to_datetime(first_day_data['date'])\n"
     ]
    },
    {
     "data": {
      "image/png": "[encoded data removed]",
      "text/plain": [
       "<Figure size 1000x600 with 1 Axes>"
      ]
     },
     "metadata": {},
     "output_type": "display_data"
    }
   ],
   "source": [
    "# plot how tweets occur over the first day\n",
    "import matplotlib.pyplot as plt\n",
    "import pandas as pd\n",
    "\n",
    "# 3. Sentiment x Bitcoin price: plot of sentiment vs bitcoin price\n",
    "combined_data = get_merged_datasets()\n",
    "# Sort the DataFrame by date just in case it's not already sorted\n",
    "combined_data = combined_data.sort_values('date')\n",
    "\n",
    "# Get the first date\n",
    "first_date = combined_data['date'].dt.date.iloc[0]\n",
    "\n",
    "# Filter the DataFrame to only include rows with the first date\n",
    "first_day_data = combined_data[combined_data['date'].dt.date == first_date]\n",
    "print(len(first_day_data))\n",
    "\n",
    "first_day_data['date'] = pd.to_datetime(first_day_data['date'])\n",
    "# Plotting\n",
    "plt.figure(figsize=(10,6))\n",
    "plt.plot(first_day_data['date'], first_day_data['close'], label='BTC Price')\n",
    "# plt.plot(df['date'], df['sentiment_score'], label='Sentiment Score')\n",
    "\n",
    "plt.xlabel('Date')\n",
    "plt.ylabel('Value')\n",
    "plt.title('Stock Price vs Market Sentiment Over Time')\n",
    "plt.legend()\n",
    "plt.show()\n"
   ]
  }
 ],
 "metadata": {
  "kernelspec": {
   "display_name": "Python 3",
   "language": "python",
   "name": "python3"
  },
  "language_info": {
   "codemirror_mode": {
    "name": "ipython",
    "version": 3
   },
   "file_extension": ".py",
   "mimetype": "text/x-python",
   "name": "python",
   "nbconvert_exporter": "python",
   "pygments_lexer": "ipython3",
   "version": "3.11.4"
  }
 },
 "nbformat": 4,
 "nbformat_minor": 2
}

{
 "cells": [
  {
   "cell_type": "markdown",
   "metadata": {},
   "source": [
    "# Evolving sentiment in Crypto markets\n",
    "James Rockey (jrockey2)\n",
    "\n",
    "Kareem Benaissa (kareem2)\n",
    "\n",
    "### This project explores the relationship between cryptocurrency sentiment through tweets\n",
    "\n",
    "This is done in the following steps:\n",
    "\n",
    "1. Calculate sentiment of tweets with BERT model pretrained with financial sentiment\n",
    "\n",
    "Model: https://huggingface.co/ProsusAI/finbert\n",
    "\n",
    "Tweets dataset: https://www.kaggle.com/code/codeblogger/bitcoin-sentiment-analysis\n",
    "\n",
    "Tweets are preprocessed before they are fed into the model.\n",
    "\n",
    "The FinBERT model outputs percentage confidence in three following sentiment categories: ['positive', 'negative', 'neutral']\n",
    "\n",
    "2. After sentiment scores are calculated for every tweet, we compare the effect of sentiment on predictive power of LSTMs. \n",
    "\n",
    "For the purposes of this research we want to explore intraday sentiment. So, we collected tweets from 15 random days in February 2021 and March 2021, and for each of these days we calculated sentiment in 10 minute increments. We then considered different sized sequences of 10 minutes to predict the next 1 or 2 sequences. We compare LSTM's prediction of price, volume, and other features, using these features as a baseline, with its performance when sentiment and weighted average sentiment are included in trainging."
   ]
  },
  {
   "cell_type": "markdown",
   "metadata": {},
   "source": [
    "## Step 1: Calculating Sentiment\n",
    "\n",
    "In our dataset, the 'text' column contains the content of the tweet. We preprocess this text and use our BERT model to calculate sentiment"
   ]
  },
  {
   "cell_type": "code",
   "execution_count": 5,
   "metadata": {},
   "outputs": [
    {
     "name": "stderr",
     "output_type": "stream",
     "text": [
      "/opt/homebrew/lib/python3.11/site-packages/tqdm/auto.py:21: TqdmWarning: IProgress not found. Please update jupyter and ipywidgets. See https://ipywidgets.readthedocs.io/en/stable/user_install.html\n",
      "  from .autonotebook import tqdm as notebook_tqdm\n"
     ]
    }
   ],
   "source": [
    "# imports\n",
    "import pandas as pd\n",
    "import numpy as np\n",
    "import matplotlib.pyplot as plt\n",
    "from transformers import AutoModelForSequenceClassification\n",
    "from transformers import TFAutoModelForSequenceClassification\n",
    "from transformers import AutoTokenizer\n",
    "from scipy.special import softmax\n",
    "import csv\n",
    "import urllib.request\n",
    "\n",
    "\n"
   ]
  },
  {
   "cell_type": "code",
   "execution_count": 8,
   "metadata": {},
   "outputs": [
    {
     "name": "stdout",
     "output_type": "stream",
     "text": [
      "<class 'pandas.core.frame.DataFrame'>\n",
      "RangeIndex: 48583 entries, 0 to 48582\n",
      "Data columns (total 13 columns):\n",
      " #   Column            Non-Null Count  Dtype \n",
      "---  ------            --------------  ----- \n",
      " 0   user_name         48582 non-null  object\n",
      " 1   user_location     28273 non-null  object\n",
      " 2   user_description  45263 non-null  object\n",
      " 3   user_created      48583 non-null  object\n",
      " 4   user_followers    48583 non-null  int64 \n",
      " 5   user_friends      48583 non-null  int64 \n",
      " 6   user_favourites   48583 non-null  int64 \n",
      " 7   user_verified     48583 non-null  bool  \n",
      " 8   date              48583 non-null  object\n",
      " 9   text              48583 non-null  object\n",
      " 10  hashtags          38416 non-null  object\n",
      " 11  source            47685 non-null  object\n",
      " 12  is_retweet        48583 non-null  bool  \n",
      "dtypes: bool(2), int64(3), object(8)\n",
      "memory usage: 4.2+ MB\n"
     ]
    }
   ],
   "source": [
    "df = pd.read_csv('datasets/Bitcoin_tweets.csv', sep=',', header=0)\n",
    "df.info()"
   ]
  },
  {
   "cell_type": "code",
   "execution_count": 10,
   "metadata": {},
   "outputs": [],
   "source": [
    "# Load the model\n",
    "MODEL = \"ProsusAI/finbert\"\n",
    "tokenizer = AutoTokenizer.from_pretrained(MODEL)\n",
    "model = AutoModelForSequenceClassification.from_pretrained(MODEL)"
   ]
  },
  {
   "cell_type": "code",
   "execution_count": 11,
   "metadata": {},
   "outputs": [],
   "source": [
    "# helper functions\n",
    "def get_labels(): \n",
    "    labels=[]\n",
    "\n",
    "    # This is for another BERT model that we tried:\n",
    "    # mapping_link = f\"https://raw.githubusercontent.com/cardiffnlp/tweeteval/main/datasets/{task}/mapping.txt\"\n",
    "    # with urllib.request.urlopen(mapping_link) as f:\n",
    "    #     html = f.read().decode('utf-8').split(\"\\n\")\n",
    "    #     csvreader = csv.reader(html, delimiter='\\t')\n",
    "    # labels = [row[1] for row in csvreader if len(row) > 1]\n",
    "\n",
    "    # This is for the FinBERT model:\n",
    "    labels = ['positive', 'negative', 'neutral']\n",
    "    return labels\n",
    "\n",
    "\n",
    "def preprocess(text):\n",
    "    '''\n",
    "    Preprocess text (username and link placeholders)\n",
    "    '''    \n",
    "    new_text = []\n",
    "    for t in text.split(\" \"):\n",
    "        t = '@user' if t.startswith('@') and len(t) > 1 else t\n",
    "        t = 'http' if t.startswith('http') else t\n",
    "        new_text.append(t)\n",
    "    return \" \".join(new_text)\n",
    "\n",
    "\n",
    "def process_tweet(text: str):\n",
    "    '''\n",
    "    Calculates sentiment scores for the given text\n",
    "    '''\n",
    "    text = preprocess(text)\n",
    "    encoded_input = tokenizer(text, return_tensors='pt')\n",
    "    output = model(**encoded_input)\n",
    "    scores = output[0][0].detach().numpy()\n",
    "    scores = softmax(scores)\n",
    "    return scores\n",
    "\n",
    "# Modified print_scores function to return values instead of printing\n",
    "def get_sentiment_scores(scores):\n",
    "    labels = get_labels()\n",
    "    ranking = np.argsort(scores)\n",
    "    ranking = ranking[::-1]\n",
    "    return {labels[ranking[i]]: np.round(float(scores[ranking[i]]), 4) for i in range(scores.shape[0])}\n",
    "\n",
    "# Function to apply to each row\n",
    "def analyze_sentiment(row):\n",
    "    '''\n",
    "    Takes in row from dataframe and returns a series of sentiment scores\n",
    "    Used in df.apply()\n",
    "    '''\n",
    "    text = row['text']\n",
    "    scores = process_tweet(text)\n",
    "    labels = get_labels()\n",
    "    sentiment_scores = get_sentiment_scores(scores, labels)\n",
    "    print(pd.Series([sentiment_scores.get('positive', 0), \n",
    "                      sentiment_scores.get('neutral', 0), \n",
    "                      sentiment_scores.get('negative', 0)]))\n",
    "    return pd.Series([sentiment_scores.get('positive', 0), \n",
    "                      sentiment_scores.get('neutral', 0), \n",
    "                      sentiment_scores.get('negative', 0)])\n",
    "\n",
    "def print_scores(scores, labels):\n",
    "    ranking = np.argsort(scores)\n",
    "    ranking = ranking[::-1]\n",
    "    for i in range(scores.shape[0]):\n",
    "        l = labels[ranking[i]]\n",
    "        s = scores[ranking[i]]\n",
    "        print(f\"{i+1}) {l} {np.round(float(s), 4)}\")\n"
   ]
  },
  {
   "cell_type": "markdown",
   "metadata": {},
   "source": [
    "### Example use of sentiment model"
   ]
  },
  {
   "cell_type": "code",
   "execution_count": 33,
   "metadata": {},
   "outputs": [
    {
     "name": "stdout",
     "output_type": "stream",
     "text": [
      "1) positive 0.9032\n",
      "2) neutral 0.0864\n",
      "3) negative 0.0103\n"
     ]
    }
   ],
   "source": [
    "text = '''I'm absolutely ecstatic about Bitcoin's remarkable \n",
    "performance and incredibly optimistic about its\n",
    " potential to revolutionize finance''' # example tweet\n",
    "\n",
    "scores = process_tweet(text)\n",
    "labels = get_labels()\n",
    "print_scores(scores, labels)"
   ]
  },
  {
   "cell_type": "markdown",
   "metadata": {},
   "source": [
    "### Apply to dataset\n",
    "Note, this may take several hours. Data with sentiment scores already calculated is found in this file: sentiment_added_data.csv"
   ]
  },
  {
   "cell_type": "code",
   "execution_count": 34,
   "metadata": {},
   "outputs": [],
   "source": [
    "# df[['positive', 'neutral', 'negative']] = df.apply(analyze_sentiment, axis=1)\n",
    "# df.to_csv('sentiment_added_data.csv')\n",
    "\n"
   ]
  },
  {
   "cell_type": "markdown",
   "metadata": {},
   "source": [
    "# ____________________________________________________________________________\n",
    "# Step 2: Analyzing Sentiment\n",
    "\n",
    "Here, we explore how sentiment using the bert model effects LSTM prediction"
   ]
  },
  {
   "cell_type": "markdown",
   "metadata": {},
   "source": [
    "### Calculate 10 minute sentiment scores for each day in dataset\n",
    "\n",
    "The sentiment score for a given day is found by taking an average of the ['positive', 'negative', 'neutral'] columns in our dataset during a 10-mintue interval. \n",
    "\n",
    "For each trading day, we group tweets into 10-minute intervals starting at 12:00:00 am until 11:59:59 pm. \n",
    "\n",
    "We also explore how the \"reach\" of a tweet affects daily sentiment by calculating a weighted average over the number of followers twitter user.\n",
    "\n",
    "If a 10-minute slice is missing tweets, we give each column equal weight"
   ]
  },
  {
   "cell_type": "code",
   "execution_count": 147,
   "metadata": {},
   "outputs": [],
   "source": [
    "'''\n",
    "The following functions calculate the weighted average \n",
    "and average sentiment scores for a group from the dataframe.\n",
    "\n",
    "Input: group: from the df.groupby() function\n",
    "\n",
    "Output: series of weighted average and average sentiment scores\n",
    "\n",
    "'''\n",
    "\n",
    "def weighted_average(group):\n",
    "    weighted_positive = (group['positive'] * group['user_followers']).sum()\n",
    "    weighted_neutral = (group['neutral'] * group['user_followers']).sum()\n",
    "    weighted_negative = (group['negative'] * group['user_followers']).sum()\n",
    "    total_followers = np.sum(group['user_followers'])\n",
    "    \n",
    "    if total_followers == 0:\n",
    "        return pd.Series({\n",
    "            'weighted_avg_positive': 1/3,\n",
    "            'weighted_avg_neutral': 1/3,\n",
    "            'weighted_avg_negative': 1/3\n",
    "        })\n",
    "    return pd.Series({\n",
    "        'weighted_avg_positive': weighted_positive / total_followers,\n",
    "        'weighted_avg_neutral': weighted_neutral / total_followers,\n",
    "        'weighted_avg_negative': weighted_negative / total_followers\n",
    "    })\n",
    "\n",
    "def average(group):\n",
    "    avg_positive = group['positive'].mean()\n",
    "    avg_neutral = group['neutral'].mean()\n",
    "    avg_negative = group['negative'].mean()\n",
    "\n",
    "    total_followers = np.sum(group['user_followers'])\n",
    "    \n",
    "    if total_followers == 0:\n",
    "        # print('INVALID TOTAL' + str(count))\n",
    "        return pd.Series({\n",
    "            'weighted_avg_positive': 1/3,\n",
    "            'weighted_avg_neutral': 1/3,\n",
    "            'weighted_avg_negative': 1/3\n",
    "        })\n",
    "    return pd.Series({\n",
    "        'avg_positive': avg_positive,\n",
    "        'avg_neutral': avg_neutral,\n",
    "        'avg_negative': avg_negative\n",
    "    })\n"
   ]
  },
  {
   "cell_type": "markdown",
   "metadata": {},
   "source": [
    "### Group Data into 10 minute intervals"
   ]
  },
  {
   "cell_type": "code",
   "execution_count": 148,
   "metadata": {},
   "outputs": [],
   "source": [
    "'''\n",
    "This function takes in a dataframe for a single day \n",
    "and returns dataframe filtered into 10 minute sentiment intervals by the date\n",
    "'''\n",
    "def process_day_data(day_df, interval_size='10T', default_values=None):\n",
    "\n",
    "    day_df['date'] = pd.to_datetime(day_df['date'])\n",
    "\n",
    "    day_date = day_df['date'].dt.date.iloc[0]\n",
    "\n",
    "    start_time = pd.to_datetime(f\"{day_date} 00:00:00\")\n",
    "    end_time = pd.to_datetime(f\"{day_date} 23:59:59\")\n",
    "    date_range = pd.date_range(start=start_time, end=end_time, freq=interval_size)\n",
    "\n",
    "    # Change weighted average to average if needed\n",
    "    grouped_data = day_df.groupby(pd.Grouper(key='date', freq=interval_size)).apply(average).reset_index()\n",
    "\n",
    "\n",
    "    grouped_data.set_index('date', inplace=True)\n",
    "\n",
    "    grouped_data = grouped_data.reindex(date_range)\n",
    "\n",
    "    # Set default values for missing data\n",
    "    default_values = default_values or 1/3\n",
    "    grouped_data.fillna(default_values, inplace=True)\n",
    "\n",
    "    # Reset index to make it a column again, if needed\n",
    "    grouped_data.reset_index(inplace=True, drop=False)\n",
    "    grouped_data.rename(columns={'index': 'date'}, inplace=True)\n",
    "\n",
    "    return grouped_data"
   ]
  },
  {
   "cell_type": "markdown",
   "metadata": {},
   "source": [
    "### Twitter sentiment grouped into days, and then into 10 minute intervals\n",
    "\n",
    "Reformat data and fill in for any gaps in sentiment score with average value"
   ]
  },
  {
   "cell_type": "code",
   "execution_count": 228,
   "metadata": {},
   "outputs": [
    {
     "data": {
      "image/png": "[encoded data removed]",
      "text/plain": [
       "<Figure size 640x480 with 1 Axes>"
      ]
     },
     "metadata": {},
     "output_type": "display_data"
    },
    {
     "name": "stdout",
     "output_type": "stream",
     "text": [
      "292\n"
     ]
    }
   ],
   "source": [
    "sentiment_df = pd.read_csv('datasets/refactored_sentiment_added_data_and_date.csv')\n",
    "sentiment_df['date'] = pd.to_datetime(sentiment_df['date'])\n",
    "# sentiment_df.info()\n",
    "day_tweets_df = sentiment_df.groupby(sentiment_df['date'].dt.day)\n",
    "\n",
    "\n",
    "x, y = [], []\n",
    "idx = 0\n",
    "for day, day_df in day_tweets_df:\n",
    "    hour_df = day_df.groupby(day_df['date'].dt.hour)\n",
    "    for hour, hour_df in hour_df:\n",
    "        x.append(idx)\n",
    "\n",
    "        y.append(hour_df['text'].count())\n",
    "        idx += 1\n",
    "\n",
    "# plot scatter plot\n",
    "plt.scatter(x, y)\n",
    "plt.xlabel('Hour')\n",
    "plt.ylabel('Number of Tweets')\n",
    "plt.title('Number of Tweets per Hour')\n",
    "plt.show()\n",
    "\n",
    "print(len(x))\n"
   ]
  },
  {
   "cell_type": "code",
   "execution_count": null,
   "metadata": {},
   "outputs": [],
   "source": []
  },
  {
   "cell_type": "code",
   "execution_count": 149,
   "metadata": {},
   "outputs": [
    {
     "data": {
      "text/html": [
       "<div>\n",
       "<style scoped>\n",
       "    .dataframe tbody tr th:only-of-type {\n",
       "        vertical-align: middle;\n",
       "    }\n",
       "\n",
       "    .dataframe tbody tr th {\n",
       "        vertical-align: top;\n",
       "    }\n",
       "\n",
       "    .dataframe thead th {\n",
       "        text-align: right;\n",
       "    }\n",
       "</style>\n",
       "<table border=\"1\" class=\"dataframe\">\n",
       "  <thead>\n",
       "    <tr style=\"text-align: right;\">\n",
       "      <th></th>\n",
       "      <th>date</th>\n",
       "      <th>avg_positive</th>\n",
       "      <th>avg_neutral</th>\n",
       "      <th>avg_negative</th>\n",
       "    </tr>\n",
       "  </thead>\n",
       "  <tbody>\n",
       "    <tr>\n",
       "      <th>0</th>\n",
       "      <td>2021-02-05 00:00:00</td>\n",
       "      <td>0.333333</td>\n",
       "      <td>0.333333</td>\n",
       "      <td>0.333333</td>\n",
       "    </tr>\n",
       "    <tr>\n",
       "      <th>1</th>\n",
       "      <td>2021-02-05 00:10:00</td>\n",
       "      <td>0.333333</td>\n",
       "      <td>0.333333</td>\n",
       "      <td>0.333333</td>\n",
       "    </tr>\n",
       "    <tr>\n",
       "      <th>2</th>\n",
       "      <td>2021-02-05 00:20:00</td>\n",
       "      <td>0.333333</td>\n",
       "      <td>0.333333</td>\n",
       "      <td>0.333333</td>\n",
       "    </tr>\n",
       "    <tr>\n",
       "      <th>3</th>\n",
       "      <td>2021-02-05 00:30:00</td>\n",
       "      <td>0.333333</td>\n",
       "      <td>0.333333</td>\n",
       "      <td>0.333333</td>\n",
       "    </tr>\n",
       "    <tr>\n",
       "      <th>4</th>\n",
       "      <td>2021-02-05 00:40:00</td>\n",
       "      <td>0.333333</td>\n",
       "      <td>0.333333</td>\n",
       "      <td>0.333333</td>\n",
       "    </tr>\n",
       "  </tbody>\n",
       "</table>\n",
       "</div>"
      ],
      "text/plain": [
       "                 date  avg_positive  avg_neutral  avg_negative\n",
       "0 2021-02-05 00:00:00      0.333333     0.333333      0.333333\n",
       "1 2021-02-05 00:10:00      0.333333     0.333333      0.333333\n",
       "2 2021-02-05 00:20:00      0.333333     0.333333      0.333333\n",
       "3 2021-02-05 00:30:00      0.333333     0.333333      0.333333\n",
       "4 2021-02-05 00:40:00      0.333333     0.333333      0.333333"
      ]
     },
     "execution_count": 149,
     "metadata": {},
     "output_type": "execute_result"
    }
   ],
   "source": [
    "sentiment_df = pd.read_csv('datasets/refactored_sentiment_added_data_and_date.csv')\n",
    "\n",
    "# information to keep: user_followers, date, positive, neutral, negative\n",
    "sentiment_df = sentiment_df[['user_followers', 'date', 'positive', 'neutral', 'negative']]\n",
    "sentiment_df['date'] = pd.to_datetime(sentiment_df['date'])\n",
    "\n",
    "# group by days\n",
    "day_tweets_df = sentiment_df.groupby(sentiment_df['date'].dt.date)\n",
    "\n",
    "day_data = []\n",
    "\n",
    "\n",
    "for day, group_data in day_tweets_df:\n",
    "    data = process_day_data(group_data) # process data for each day (fill in missing interval data)\n",
    "    day_data.append(data)\n",
    "\n",
    "# print(day_data.keys())\n",
    "day_tweets_df = pd.concat(day_data, ignore_index=True)\n",
    "day_tweets_df.head()\n",
    "\n"
   ]
  },
  {
   "cell_type": "markdown",
   "metadata": {},
   "source": [
    "### Bitcoin Price grouped into 10 minute intervals"
   ]
  },
  {
   "cell_type": "code",
   "execution_count": 192,
   "metadata": {},
   "outputs": [
    {
     "name": "stdout",
     "output_type": "stream",
     "text": [
      "<class 'pandas.core.frame.DataFrame'>\n",
      "Int64Index: 2160 entries, 0 to 2159\n",
      "Data columns (total 12 columns):\n",
      " #   Column        Non-Null Count  Dtype         \n",
      "---  ------        --------------  -----         \n",
      " 0   date          2160 non-null   datetime64[ns]\n",
      " 1   avg_positive  2160 non-null   float64       \n",
      " 2   avg_neutral   2160 non-null   float64       \n",
      " 3   avg_negative  2160 non-null   float64       \n",
      " 4   unix          2160 non-null   int64         \n",
      " 5   symbol        2160 non-null   object        \n",
      " 6   open          2160 non-null   float64       \n",
      " 7   high          2160 non-null   float64       \n",
      " 8   low           2160 non-null   float64       \n",
      " 9   close         2160 non-null   float64       \n",
      " 10  Volume BTC    2160 non-null   float64       \n",
      " 11  Volume USD    2160 non-null   float64       \n",
      "dtypes: datetime64[ns](1), float64(9), int64(1), object(1)\n",
      "memory usage: 219.4+ KB\n"
     ]
    }
   ],
   "source": [
    "btc_minute_df = pd.read_csv('datasets/BTC-2021min.csv', sep=',', header=0)\n",
    "btc_minute_df['date'] = pd.to_datetime(btc_minute_df['date'])\n",
    "\n",
    "combined_data = pd.merge(day_tweets_df, btc_minute_df, on='date', how='inner')\n",
    "\n",
    "combined_data.info()"
   ]
  },
  {
   "cell_type": "markdown",
   "metadata": {},
   "source": [
    "### Creating sequences"
   ]
  },
  {
   "cell_type": "code",
   "execution_count": 193,
   "metadata": {},
   "outputs": [],
   "source": [
    "'''\n",
    "This function takes in pandas dataframe and returns nonoverlapping sequences\n",
    "\n",
    "data: np ndarray of the values of a set of columns\n",
    "\n",
    "lookback: number of rows to look back on\n",
    "m: number of rows after lookback to include in sequence\n",
    "\n",
    "X: where len(X) = lookback \n",
    "y: where len(y) = m\n",
    "'''\n",
    "\n",
    "def create_sequences(data, lookback: int, m = 1, features = [1, 2, 3]):\n",
    "    X, y = [], []\n",
    "    for i in range(0, len(data) - lookback, lookback + m):\n",
    "        # for given window, get only the features columns\n",
    "        X_seq = data[i:(i+lookback), features] # start at first sequence\n",
    "        y_seq = data[i+lookback:i+lookback+m, features]\n",
    "\n",
    "        # if features uncomment this\n",
    "        # X_seq = X_seq.iloc[:, features]\n",
    "        # y_seq = y_seq.iloc[:, features]\n",
    "        X.append(X_seq)\n",
    "        y.append(y_seq)\n",
    "    return np.array(X), np.array(y)"
   ]
  },
  {
   "cell_type": "code",
   "execution_count": 198,
   "metadata": {},
   "outputs": [
    {
     "name": "stdout",
     "output_type": "stream",
     "text": [
      "<class 'pandas.core.frame.DataFrame'>\n",
      "Int64Index: 2160 entries, 0 to 2159\n",
      "Data columns (total 12 columns):\n",
      " #   Column        Non-Null Count  Dtype         \n",
      "---  ------        --------------  -----         \n",
      " 0   date          2160 non-null   datetime64[ns]\n",
      " 1   avg_positive  2160 non-null   float64       \n",
      " 2   avg_neutral   2160 non-null   float64       \n",
      " 3   avg_negative  2160 non-null   float64       \n",
      " 4   unix          2160 non-null   int64         \n",
      " 5   symbol        2160 non-null   object        \n",
      " 6   open          2160 non-null   float64       \n",
      " 7   high          2160 non-null   float64       \n",
      " 8   low           2160 non-null   float64       \n",
      " 9   close         2160 non-null   float64       \n",
      " 10  Volume BTC    2160 non-null   float64       \n",
      " 11  Volume USD    2160 non-null   float64       \n",
      "dtypes: datetime64[ns](1), float64(9), int64(1), object(1)\n",
      "memory usage: 219.4+ KB\n",
      "None\n",
      "15\n",
      "(285, 5, 1) (285, 1, 1)\n"
     ]
    }
   ],
   "source": [
    "from sklearn.preprocessing import MinMaxScaler\n",
    "\n",
    "num_days = combined_data.groupby(combined_data['date'].dt.date).ngroups\n",
    "\n",
    "sample_size = 10 # frequency of data points (in minutes)\n",
    "\n",
    "features = ['close', 'avg_positive']       # 'weighted_avg_positive', 'weighted_avg_neutral', 'weighted_avg_negative', \n",
    " \n",
    "scaler = MinMaxScaler(feature_range=(0, 1))\n",
    "\n",
    "print(combined_data.info())\n",
    "scaled_features = scaler.fit_transform(combined_data[features].values)\n",
    "\n",
    "\n",
    "training_data = []\n",
    "testing_data = []\n",
    "\n",
    "for i in range(0, num_days):\n",
    "    # get data for that day\n",
    "    num_rows = scaled_features.shape[0] // num_days\n",
    "\n",
    "    day_data = scaled_features[i*num_rows:(i+1)*num_rows]\n",
    "    output_features = [0] # only predict price\n",
    "    X, y = create_sequences(day_data, 5, 1, output_features)\n",
    "    training_data.append((X[:int(len(X)*0.8)], y[:int(len(y)*0.8)]))\n",
    "    testing_data.append((X[int(len(X)*0.8):], y[int(len(y)*0.8):]))\n",
    "\n",
    "print(len(training_data))\n",
    "\n",
    "X_train = np.concatenate([data[0] for data in training_data])\n",
    "y_train = np.concatenate([data[1] for data in training_data])\n",
    "X_test = np.concatenate([data[0] for data in testing_data])\n",
    "y_test = np.concatenate([data[1] for data in testing_data]) \n",
    "\n",
    "\n",
    "print(X_train.shape, y_train.shape)"
   ]
  },
  {
   "cell_type": "markdown",
   "metadata": {},
   "source": [
    "# LSTM Model"
   ]
  },
  {
   "cell_type": "code",
   "execution_count": 199,
   "metadata": {},
   "outputs": [],
   "source": [
    "import pandas as pd\n",
    "from sklearn.preprocessing import MinMaxScaler\n",
    "from sklearn.model_selection import train_test_split\n",
    "from keras.models import Sequential\n",
    "from keras.layers import LSTM, Dense\n",
    "from keras.callbacks import EarlyStopping"
   ]
  },
  {
   "cell_type": "code",
   "execution_count": 201,
   "metadata": {},
   "outputs": [],
   "source": [
    "model = Sequential()\n",
    "model.add(LSTM(50, return_sequences=True, input_shape=(5, 1)))\n",
    "model.add(LSTM(50))\n",
    "model.add(Dense(1))\n",
    "\n",
    "# Compiling the model\n",
    "model.compile(optimizer='adam', loss='mean_squared_error')"
   ]
  },
  {
   "cell_type": "markdown",
   "metadata": {},
   "source": [
    "### Training Model"
   ]
  },
  {
   "cell_type": "code",
   "execution_count": 202,
   "metadata": {},
   "outputs": [
    {
     "name": "stdout",
     "output_type": "stream",
     "text": [
      "Epoch 1/100\n",
      "9/9 [==============================] - 2s 47ms/step - loss: 0.2691 - val_loss: 0.1647\n",
      "Epoch 2/100\n",
      "9/9 [==============================] - 0s 6ms/step - loss: 0.0758 - val_loss: 0.0130\n",
      "Epoch 3/100\n",
      "9/9 [==============================] - 0s 5ms/step - loss: 0.0275 - val_loss: 0.0184\n",
      "Epoch 4/100\n",
      "9/9 [==============================] - 0s 5ms/step - loss: 0.0135 - val_loss: 0.0153\n",
      "Epoch 5/100\n",
      "9/9 [==============================] - 0s 5ms/step - loss: 0.0122 - val_loss: 0.0067\n",
      "Epoch 6/100\n",
      "9/9 [==============================] - 0s 5ms/step - loss: 0.0060 - val_loss: 0.0045\n",
      "Epoch 7/100\n",
      "9/9 [==============================] - 0s 5ms/step - loss: 0.0038 - val_loss: 0.0024\n",
      "Epoch 8/100\n",
      "9/9 [==============================] - 0s 5ms/step - loss: 0.0020 - val_loss: 9.4340e-04\n",
      "Epoch 9/100\n",
      "9/9 [==============================] - 0s 5ms/step - loss: 0.0010 - val_loss: 5.5056e-04\n",
      "Epoch 10/100\n",
      "9/9 [==============================] - 0s 5ms/step - loss: 6.4114e-04 - val_loss: 4.7685e-04\n",
      "Epoch 11/100\n",
      "9/9 [==============================] - 0s 5ms/step - loss: 5.0271e-04 - val_loss: 5.0839e-04\n",
      "Epoch 12/100\n",
      "9/9 [==============================] - 0s 5ms/step - loss: 4.9311e-04 - val_loss: 4.7697e-04\n",
      "Epoch 13/100\n",
      "9/9 [==============================] - 0s 5ms/step - loss: 4.8198e-04 - val_loss: 4.5650e-04\n",
      "Epoch 14/100\n",
      "9/9 [==============================] - 0s 5ms/step - loss: 4.4965e-04 - val_loss: 4.2464e-04\n",
      "Epoch 15/100\n",
      "9/9 [==============================] - 0s 6ms/step - loss: 4.3994e-04 - val_loss: 4.0176e-04\n",
      "Epoch 16/100\n",
      "9/9 [==============================] - 0s 6ms/step - loss: 4.2500e-04 - val_loss: 3.8018e-04\n",
      "Epoch 17/100\n",
      "9/9 [==============================] - 0s 6ms/step - loss: 4.0901e-04 - val_loss: 3.6389e-04\n",
      "Epoch 18/100\n",
      "9/9 [==============================] - 0s 6ms/step - loss: 3.9320e-04 - val_loss: 3.5208e-04\n",
      "Epoch 19/100\n",
      "9/9 [==============================] - 0s 10ms/step - loss: 3.7972e-04 - val_loss: 3.3448e-04\n",
      "Epoch 20/100\n",
      "9/9 [==============================] - 0s 6ms/step - loss: 3.6854e-04 - val_loss: 3.3147e-04\n",
      "Epoch 21/100\n",
      "9/9 [==============================] - 0s 6ms/step - loss: 3.6473e-04 - val_loss: 3.1803e-04\n",
      "Epoch 22/100\n",
      "9/9 [==============================] - 0s 5ms/step - loss: 3.4900e-04 - val_loss: 3.0630e-04\n",
      "Epoch 23/100\n",
      "9/9 [==============================] - 0s 5ms/step - loss: 3.3402e-04 - val_loss: 2.9148e-04\n",
      "Epoch 24/100\n",
      "9/9 [==============================] - 0s 5ms/step - loss: 3.2334e-04 - val_loss: 2.8007e-04\n",
      "Epoch 25/100\n",
      "9/9 [==============================] - 0s 5ms/step - loss: 3.1470e-04 - val_loss: 2.6483e-04\n",
      "Epoch 26/100\n",
      "9/9 [==============================] - 0s 5ms/step - loss: 3.0850e-04 - val_loss: 2.5634e-04\n",
      "Epoch 27/100\n",
      "9/9 [==============================] - 0s 5ms/step - loss: 2.9714e-04 - val_loss: 2.4845e-04\n",
      "Epoch 28/100\n",
      "9/9 [==============================] - 0s 5ms/step - loss: 2.9128e-04 - val_loss: 2.3406e-04\n",
      "Epoch 29/100\n",
      "9/9 [==============================] - 0s 6ms/step - loss: 2.8587e-04 - val_loss: 2.2713e-04\n",
      "Epoch 30/100\n",
      "9/9 [==============================] - 0s 6ms/step - loss: 2.8052e-04 - val_loss: 2.2207e-04\n",
      "Epoch 31/100\n",
      "9/9 [==============================] - 0s 6ms/step - loss: 2.6827e-04 - val_loss: 2.2844e-04\n",
      "Epoch 32/100\n",
      "9/9 [==============================] - 0s 5ms/step - loss: 2.7351e-04 - val_loss: 2.0788e-04\n",
      "Epoch 33/100\n",
      "9/9 [==============================] - 0s 5ms/step - loss: 2.5885e-04 - val_loss: 2.0041e-04\n",
      "Epoch 34/100\n",
      "9/9 [==============================] - 0s 5ms/step - loss: 2.5403e-04 - val_loss: 1.9617e-04\n",
      "Epoch 35/100\n",
      "9/9 [==============================] - 0s 5ms/step - loss: 2.5508e-04 - val_loss: 1.9234e-04\n",
      "Epoch 36/100\n",
      "9/9 [==============================] - 0s 5ms/step - loss: 2.5046e-04 - val_loss: 1.8399e-04\n",
      "Epoch 37/100\n",
      "9/9 [==============================] - 0s 5ms/step - loss: 2.4545e-04 - val_loss: 1.9491e-04\n",
      "Epoch 38/100\n",
      "9/9 [==============================] - 0s 5ms/step - loss: 2.4140e-04 - val_loss: 1.7684e-04\n",
      "Epoch 39/100\n",
      "9/9 [==============================] - 0s 5ms/step - loss: 2.3417e-04 - val_loss: 1.7721e-04\n",
      "Epoch 40/100\n",
      "9/9 [==============================] - 0s 5ms/step - loss: 2.4147e-04 - val_loss: 1.8724e-04\n",
      "Epoch 41/100\n",
      "9/9 [==============================] - 0s 5ms/step - loss: 2.3118e-04 - val_loss: 1.8779e-04\n",
      "Epoch 42/100\n",
      "9/9 [==============================] - 0s 5ms/step - loss: 2.3513e-04 - val_loss: 1.6663e-04\n",
      "Epoch 43/100\n",
      "9/9 [==============================] - 0s 5ms/step - loss: 2.3268e-04 - val_loss: 1.6670e-04\n",
      "Epoch 44/100\n",
      "9/9 [==============================] - 0s 5ms/step - loss: 2.4091e-04 - val_loss: 1.8506e-04\n",
      "Epoch 45/100\n",
      "9/9 [==============================] - 0s 5ms/step - loss: 2.3926e-04 - val_loss: 1.6646e-04\n",
      "Epoch 46/100\n",
      "9/9 [==============================] - 0s 6ms/step - loss: 2.2742e-04 - val_loss: 1.6080e-04\n",
      "Epoch 47/100\n",
      "9/9 [==============================] - 0s 6ms/step - loss: 2.3124e-04 - val_loss: 1.5933e-04\n",
      "Epoch 48/100\n",
      "9/9 [==============================] - 0s 5ms/step - loss: 2.3437e-04 - val_loss: 1.7261e-04\n",
      "Epoch 49/100\n",
      "9/9 [==============================] - 0s 5ms/step - loss: 2.3730e-04 - val_loss: 1.5673e-04\n",
      "Epoch 50/100\n",
      "9/9 [==============================] - 0s 6ms/step - loss: 2.2480e-04 - val_loss: 1.5680e-04\n",
      "Epoch 51/100\n",
      "9/9 [==============================] - 0s 5ms/step - loss: 2.2707e-04 - val_loss: 1.5806e-04\n",
      "Epoch 52/100\n",
      "9/9 [==============================] - 0s 5ms/step - loss: 2.2163e-04 - val_loss: 1.5420e-04\n",
      "Epoch 53/100\n",
      "9/9 [==============================] - 0s 5ms/step - loss: 2.2150e-04 - val_loss: 1.5507e-04\n",
      "Epoch 54/100\n",
      "9/9 [==============================] - 0s 5ms/step - loss: 2.2479e-04 - val_loss: 1.7116e-04\n",
      "Epoch 55/100\n",
      "9/9 [==============================] - 0s 5ms/step - loss: 2.3325e-04 - val_loss: 1.5717e-04\n",
      "Epoch 56/100\n",
      "9/9 [==============================] - 0s 5ms/step - loss: 2.2149e-04 - val_loss: 1.5245e-04\n",
      "Epoch 57/100\n",
      "9/9 [==============================] - 0s 5ms/step - loss: 2.3417e-04 - val_loss: 1.7356e-04\n",
      "Epoch 58/100\n",
      "9/9 [==============================] - 0s 5ms/step - loss: 2.3042e-04 - val_loss: 1.6051e-04\n",
      "Epoch 59/100\n",
      "9/9 [==============================] - 0s 5ms/step - loss: 2.3612e-04 - val_loss: 1.6127e-04\n",
      "Epoch 60/100\n",
      "9/9 [==============================] - 0s 5ms/step - loss: 2.2567e-04 - val_loss: 1.5418e-04\n",
      "Epoch 61/100\n",
      "9/9 [==============================] - 0s 5ms/step - loss: 2.2011e-04 - val_loss: 1.5216e-04\n",
      "Epoch 62/100\n",
      "9/9 [==============================] - 0s 5ms/step - loss: 2.2115e-04 - val_loss: 1.5275e-04\n",
      "Epoch 63/100\n",
      "9/9 [==============================] - 0s 5ms/step - loss: 2.2159e-04 - val_loss: 1.5192e-04\n",
      "Epoch 64/100\n",
      "9/9 [==============================] - 0s 5ms/step - loss: 2.2042e-04 - val_loss: 1.5422e-04\n",
      "Epoch 65/100\n",
      "9/9 [==============================] - 0s 5ms/step - loss: 2.2172e-04 - val_loss: 1.5202e-04\n",
      "Epoch 66/100\n",
      "9/9 [==============================] - 0s 5ms/step - loss: 2.1978e-04 - val_loss: 1.5814e-04\n",
      "Epoch 67/100\n",
      "9/9 [==============================] - 0s 5ms/step - loss: 2.2732e-04 - val_loss: 1.5811e-04\n",
      "Epoch 68/100\n",
      "9/9 [==============================] - 0s 5ms/step - loss: 2.1652e-04 - val_loss: 1.8958e-04\n",
      "Epoch 69/100\n",
      "9/9 [==============================] - 0s 5ms/step - loss: 2.3281e-04 - val_loss: 1.5060e-04\n",
      "Epoch 70/100\n",
      "9/9 [==============================] - 0s 5ms/step - loss: 2.2768e-04 - val_loss: 1.5501e-04\n",
      "Epoch 71/100\n",
      "9/9 [==============================] - 0s 5ms/step - loss: 2.3271e-04 - val_loss: 1.5160e-04\n",
      "Epoch 72/100\n",
      "9/9 [==============================] - 0s 5ms/step - loss: 2.3319e-04 - val_loss: 1.8046e-04\n",
      "Epoch 73/100\n",
      "9/9 [==============================] - 0s 5ms/step - loss: 2.2857e-04 - val_loss: 1.5190e-04\n",
      "Epoch 74/100\n",
      "9/9 [==============================] - 0s 5ms/step - loss: 2.2644e-04 - val_loss: 1.5677e-04\n",
      "Epoch 75/100\n",
      "9/9 [==============================] - 0s 5ms/step - loss: 2.2444e-04 - val_loss: 1.5185e-04\n",
      "Epoch 76/100\n",
      "9/9 [==============================] - 0s 5ms/step - loss: 2.1986e-04 - val_loss: 1.4985e-04\n",
      "Epoch 77/100\n",
      "9/9 [==============================] - 0s 5ms/step - loss: 2.2449e-04 - val_loss: 1.6744e-04\n",
      "Epoch 78/100\n",
      "9/9 [==============================] - 0s 6ms/step - loss: 2.2004e-04 - val_loss: 1.6646e-04\n",
      "Epoch 79/100\n",
      "9/9 [==============================] - 0s 6ms/step - loss: 2.2980e-04 - val_loss: 1.5134e-04\n",
      "Epoch 80/100\n",
      "9/9 [==============================] - 0s 5ms/step - loss: 2.2396e-04 - val_loss: 1.9326e-04\n",
      "Epoch 81/100\n",
      "9/9 [==============================] - 0s 5ms/step - loss: 2.2882e-04 - val_loss: 1.7436e-04\n",
      "Epoch 82/100\n",
      "9/9 [==============================] - 0s 5ms/step - loss: 2.4046e-04 - val_loss: 1.5184e-04\n",
      "Epoch 83/100\n",
      "9/9 [==============================] - 0s 5ms/step - loss: 2.2456e-04 - val_loss: 1.5842e-04\n",
      "Epoch 84/100\n",
      "9/9 [==============================] - 0s 5ms/step - loss: 2.2320e-04 - val_loss: 1.7126e-04\n",
      "Epoch 85/100\n",
      "9/9 [==============================] - 0s 5ms/step - loss: 2.2672e-04 - val_loss: 1.5214e-04\n",
      "Epoch 86/100\n",
      "9/9 [==============================] - 0s 5ms/step - loss: 2.3138e-04 - val_loss: 1.6901e-04\n"
     ]
    },
    {
     "data": {
      "text/plain": [
       "<keras.src.callbacks.History at 0x2b9853910>"
      ]
     },
     "execution_count": 202,
     "metadata": {},
     "output_type": "execute_result"
    }
   ],
   "source": [
    "# Early stopping\n",
    "early_stopping = EarlyStopping(monitor='val_loss', patience=10)\n",
    "\n",
    "# Training the model\n",
    "model.fit(X_train, y_train, epochs=100, validation_data=(X_test, y_test), callbacks=[early_stopping], batch_size=32)"
   ]
  },
  {
   "cell_type": "code",
   "execution_count": 188,
   "metadata": {},
   "outputs": [
    {
     "name": "stdout",
     "output_type": "stream",
     "text": [
      "3/3 [==============================] - 0s 1ms/step - loss: 1.7615e-04\n"
     ]
    },
    {
     "data": {
      "text/plain": [
       "0.0001761541498126462"
      ]
     },
     "execution_count": 188,
     "metadata": {},
     "output_type": "execute_result"
    }
   ],
   "source": [
    "model.evaluate(X_test, y_test)\n"
   ]
  },
  {
   "cell_type": "markdown",
   "metadata": {},
   "source": [
    "# Model with sentiment included performance"
   ]
  },
  {
   "cell_type": "code",
   "execution_count": 203,
   "metadata": {},
   "outputs": [
    {
     "name": "stdout",
     "output_type": "stream",
     "text": [
      "3/3 [==============================] - 0s 2ms/step - loss: 1.6901e-04\n"
     ]
    },
    {
     "data": {
      "text/plain": [
       "0.00016900693299248815"
      ]
     },
     "execution_count": 203,
     "metadata": {},
     "output_type": "execute_result"
    }
   ],
   "source": [
    "model.evaluate(X_test, y_test)\n",
    "# 0.00015919399447739124 < 0.00015837745741009712\n"
   ]
  }
 ],
 "metadata": {
  "kernelspec": {
   "display_name": "Python 3",
   "language": "python",
   "name": "python3"
  },
  "language_info": {
   "codemirror_mode": {
    "name": "ipython",
    "version": 3
   },
   "file_extension": ".py",
   "mimetype": "text/x-python",
   "name": "python",
   "nbconvert_exporter": "python",
   "pygments_lexer": "ipython3",
   "version": "3.11.4"
  }
 },
 "nbformat": 4,
 "nbformat_minor": 2
}
